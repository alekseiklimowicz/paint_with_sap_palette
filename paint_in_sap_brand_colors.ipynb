{
 "cells": [
  {
   "cell_type": "code",
   "execution_count": 1,
   "metadata": {},
   "outputs": [],
   "source": [
    "mainPalette = {}\n",
    "mainPalette[\"White\"] = (255,255,255)\n",
    "mainPalette[\"Black\"] = (0,0,0)\n",
    "mainPalette[\"SAP Gold\"] = (240,171,0)\n",
    "\n",
    "secondaryPalette = {}\n",
    "secondaryPalette[\"SAP Light Gray\"] = (204,204,204)\n",
    "secondaryPalette[\"SAP Medium Gray\"] = (153,153,153)\n",
    "secondaryPalette[\"SAP Dark Gray\"] = (102,102,102)\n",
    "\n",
    "secondaryPalette[\"SAP Bright Blue\"] = (0,143,211)\n",
    "secondaryPalette[\"SAP Medium Blue\"] = (0,118,203)\n",
    "secondaryPalette[\"SAP Deep Blue\"] = (0,50,131)\n",
    "\n",
    "secondaryPalette[\"SAP Bright Purple\"] = (151,10,130)\n",
    "secondaryPalette[\"SAP Medium Purple\"] = (118,10,133)\n",
    "secondaryPalette[\"SAP Deep Purple\"] = (69,21,126)\n",
    "\n",
    "secondaryPalette[\"SAP Bright Orange\"] = (235,115,0)\n",
    "secondaryPalette[\"SAP Medium Orange\"] = (227,85,0)\n",
    "secondaryPalette[\"SAP Deep Orange\"] = (188,54,24)\n",
    "\n",
    "secondaryPalette[\"SAP Bright Green\"] = (147,20,57)\n",
    "secondaryPalette[\"SAP Medium Green\"] = (79,184,28)\n",
    "secondaryPalette[\"SAP Deep Green\"] = (36,114,48)"
   ]
  },
  {
   "cell_type": "code",
   "execution_count": 2,
   "metadata": {},
   "outputs": [],
   "source": [
    "import math\n",
    "def color_distance(c1, c2):\n",
    "    rmean = ( c1[0] + c2[0] ) / 2;\n",
    "    r = c1[0] - c2[0]\n",
    "    g = c1[1] - c2[1]\n",
    "    b = c1[2] - c2[2]\n",
    "    return math.sqrt((((512+rmean)*r*r) / 256 ) + 4*g*g + (((767-rmean)*b*b) / 258));               "
   ]
  },
  {
   "cell_type": "code",
   "execution_count": 3,
   "metadata": {},
   "outputs": [],
   "source": [
    "def get_closest_color(bColors, color):\n",
    "    min_dist = 3*255**2\n",
    "    key=list(bColors.values())[0]\n",
    "    for i in bColors:\n",
    "        dist = color_distance(color, bColors[i])\n",
    "        if dist < min_dist:\n",
    "            min_dist = dist\n",
    "            key = i\n",
    "    return(key)"
   ]
  },
  {
   "cell_type": "code",
   "execution_count": 4,
   "metadata": {},
   "outputs": [],
   "source": [
    "def build_palette(palette_type):\n",
    "    palette ={}\n",
    "    if palette_type == 'M':        \n",
    "        palette = mainPalette\n",
    "        \n",
    "    elif palette_type == 'S':        \n",
    "        palette = secondaryPalette\n",
    "        \n",
    "    elif palette_type == 'MS':        \n",
    "        palette = z = {**mainPalette, **secondaryPalette}                \n",
    "    return palette"
   ]
  },
  {
   "cell_type": "code",
   "execution_count": 5,
   "metadata": {},
   "outputs": [],
   "source": [
    "def replace_colors(palette_type, img):\n",
    "    bColors = build_palette(palette_type)\n",
    "    width, height = img.size\n",
    "    for i in range(0,width):\n",
    "        for j in range(0,height):\n",
    "            data = img.getpixel((i,j))            \n",
    "            color = get_closest_color(bColors, data)                    \n",
    "            img.putpixel((i,j),bColors[color])      "
   ]
  },
  {
   "cell_type": "code",
   "execution_count": 6,
   "metadata": {},
   "outputs": [],
   "source": [
    "from PIL import Image\n",
    "# import numpy as np\n",
    "img = Image.open(\"htf.jpg\")\n",
    "\n",
    "replace_colors('MS', img ) # M - Main palette, S - Secondary palette, MS - Main and Secondary palette\n",
    "img.show()"
   ]
  }
 ],
 "metadata": {
  "kernelspec": {
   "display_name": "Python 3",
   "language": "python",
   "name": "python3"
  },
  "language_info": {
   "codemirror_mode": {
    "name": "ipython",
    "version": 3
   },
   "file_extension": ".py",
   "mimetype": "text/x-python",
   "name": "python",
   "nbconvert_exporter": "python",
   "pygments_lexer": "ipython3",
   "version": "3.7.3"
  }
 },
 "nbformat": 4,
 "nbformat_minor": 2
}
