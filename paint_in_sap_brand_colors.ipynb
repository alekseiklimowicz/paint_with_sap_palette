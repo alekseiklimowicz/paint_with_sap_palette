{
 "cells": [
  {
   "cell_type": "code",
   "execution_count": 1,
   "metadata": {},
   "outputs": [],
   "source": [
    "mainPalette = {}\n",
    "mainPalette[\"W\"] = (255,255,255)\n",
    "mainPalette[\"B\"] = (0,0,0)\n",
    "mainPalette[\"G\"] = (240,171,0)\n",
    "\n",
    "secondaryPalette = {}\n",
    "secondaryPalette[\"LG\"] = (204,204,204)\n",
    "secondaryPalette[\"MG\"] = (153,153,153)\n",
    "secondaryPalette[\"DG\"] = (102,102,102)\n",
    "\n",
    "secondaryPalette[\"BB\"] = (0,143,211)\n",
    "secondaryPalette[\"MB\"] = (0,118,203)\n",
    "secondaryPalette[\"DB\"] = (0,50,131)\n",
    "\n",
    "secondaryPalette[\"BP\"] = (151,10,130)\n",
    "secondaryPalette[\"MP\"] = (118,10,133)\n",
    "secondaryPalette[\"DP\"] = (69,21,126)\n",
    "\n",
    "secondaryPalette[\"BO\"] = (235,115,0)\n",
    "secondaryPalette[\"MO\"] = (227,85,0)\n",
    "secondaryPalette[\"DO\"] = (188,54,24)\n",
    "\n",
    "secondaryPalette[\"BG\"] = (147,20,57)\n",
    "secondaryPalette[\"SMG\"] = (79,184,28)\n",
    "secondaryPalette[\"SDG\"] = (36,114,48)"
   ]
  },
  {
   "cell_type": "code",
   "execution_count": 2,
   "metadata": {},
   "outputs": [],
   "source": [
    "import math\n",
    "def color_distance(c1, c2):\n",
    "    rmean = ( c1[0] + c2[0] ) / 2;\n",
    "    r = c1[0] - c2[0]\n",
    "    g = c1[1] - c2[1]\n",
    "    b = c1[2] - c2[2]\n",
    "    return math.sqrt((((512+rmean)*r*r) / 256 ) + 4*g*g + (((767-rmean)*b*b) / 258));               "
   ]
  },
  {
   "cell_type": "code",
   "execution_count": 3,
   "metadata": {},
   "outputs": [],
   "source": [
    "def get_closest_color(bColors, color):\n",
    "    min_dist = 3*255**2\n",
    "    key=list(bColors.values())[0]\n",
    "    for i in bColors:\n",
    "        dist = color_distance(color, bColors[i])\n",
    "        if dist < min_dist:\n",
    "            min_dist = dist\n",
    "            key = i\n",
    "    return(key)"
   ]
  },
  {
   "cell_type": "code",
   "execution_count": 4,
   "metadata": {},
   "outputs": [],
   "source": [
    "def build_palette(palette_type):\n",
    "    palette ={}\n",
    "    if palette_type == 'M':        \n",
    "        palette = mainPalette\n",
    "        \n",
    "    elif palette_type == 'S':        \n",
    "        palette = secondaryPalette\n",
    "        \n",
    "    elif palette_type == 'MS':        \n",
    "        palette = z = {**mainPalette, **secondaryPalette}                \n",
    "    return palette"
   ]
  },
  {
   "cell_type": "code",
   "execution_count": 5,
   "metadata": {},
   "outputs": [],
   "source": [
    "def replace_colors(palette_type, img):\n",
    "    bColors = build_palette(palette_type)\n",
    "    width, height = img.size\n",
    "    for i in range(0,width):\n",
    "        for j in range(0,height):\n",
    "            data = img.getpixel((i,j))            \n",
    "            color = get_closest_color(bColors, data)                    \n",
    "            img.putpixel((i,j),bColors[color])      "
   ]
  },
  {
   "cell_type": "code",
   "execution_count": 6,
   "metadata": {},
   "outputs": [],
   "source": [
    "from PIL import Image\n",
    "img = Image.open(\"htf.jpg\")\n",
    "\n",
    "replace_colors('M', img ) # M - Main palette, S - Secondary palette, MS - Main and Secondary palette\n",
    "img.show()"
   ]
  },
  {
   "cell_type": "code",
   "execution_count": null,
   "metadata": {},
   "outputs": [],
   "source": []
  }
 ],
 "metadata": {
  "kernelspec": {
   "display_name": "Python 3",
   "language": "python",
   "name": "python3"
  },
  "language_info": {
   "codemirror_mode": {
    "name": "ipython",
    "version": 3
   },
   "file_extension": ".py",
   "mimetype": "text/x-python",
   "name": "python",
   "nbconvert_exporter": "python",
   "pygments_lexer": "ipython3",
   "version": "3.7.3"
  }
 },
 "nbformat": 4,
 "nbformat_minor": 2
}
